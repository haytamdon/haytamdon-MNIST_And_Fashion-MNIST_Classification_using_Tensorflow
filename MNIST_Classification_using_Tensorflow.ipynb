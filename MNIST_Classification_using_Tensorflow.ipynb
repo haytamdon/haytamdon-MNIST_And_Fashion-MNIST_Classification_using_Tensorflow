{
 "cells": [
  {
   "cell_type": "code",
   "metadata": {
    "id": "PDV5roxVbgUz",
    "cell_id": "00000-83c512e6-785b-401e-a88e-ff9542329d93",
    "deepnote_to_be_reexecuted": false,
    "source_hash": "4c762473",
    "execution_start": 1638042253703,
    "execution_millis": 3568,
    "deepnote_cell_type": "code"
   },
   "source": "import tensorflow as tf\nfrom tensorflow import keras\nfrom tensorflow.keras.utils import to_categorical\nimport numpy as np\nimport matplotlib.pyplot as plt",
   "outputs": [],
   "execution_count": 1
  },
  {
   "cell_type": "code",
   "metadata": {
    "id": "WhXryVa0l8w_",
    "cell_id": "00001-43ae5aaf-9f64-4fb1-a57b-4602577dd374",
    "deepnote_to_be_reexecuted": false,
    "source_hash": "38470a77",
    "execution_start": 1638042257280,
    "execution_millis": 3,
    "deepnote_cell_type": "code"
   },
   "source": "tf.random.set_seed(7)",
   "outputs": [],
   "execution_count": 2
  },
  {
   "cell_type": "code",
   "metadata": {
    "id": "qsE-osxmmHrW",
    "cell_id": "00002-565edcdd-0bb1-4317-a1f8-d216b2de27b4",
    "deepnote_to_be_reexecuted": false,
    "source_hash": "9aad9f1c",
    "execution_start": 1638042257290,
    "execution_millis": 570,
    "deepnote_cell_type": "code"
   },
   "source": "mnist = keras.datasets.mnist\n(X_train, y_train), (X_test, y_test) = mnist.load_data()",
   "outputs": [
    {
     "name": "stdout",
     "text": "Downloading data from https://storage.googleapis.com/tensorflow/tf-keras-datasets/mnist.npz\n11493376/11490434 [==============================] - 0s 0us/step\n",
     "output_type": "stream"
    }
   ],
   "execution_count": 3
  },
  {
   "cell_type": "code",
   "metadata": {
    "id": "j-us0f2gqRqh",
    "cell_id": "00003-810626da-883e-430a-9c6d-2e8451512dc7",
    "deepnote_to_be_reexecuted": false,
    "source_hash": "4f879134",
    "execution_start": 1638042257868,
    "execution_millis": 352,
    "deepnote_cell_type": "code"
   },
   "source": "from tensorflow.keras.utils import to_categorical\nmean = np.mean(X_train)\nstddev = np.std(X_train)\nX_train = (X_train - mean)/stddev\nX_test = (X_test - mean)/stddev\ny_train = to_categorical(y_train, num_classes=10)\ny_test = to_categorical(y_test, num_classes=10)",
   "outputs": [],
   "execution_count": 4
  },
  {
   "cell_type": "code",
   "metadata": {
    "id": "o1vHYsM-oEAa",
    "cell_id": "00004-b6cc2195-f1e7-4768-9573-d04afe8b12c3",
    "deepnote_to_be_reexecuted": false,
    "source_hash": "3d9ca53f",
    "execution_start": 1638042258232,
    "deepnote_cell_type": "code"
   },
   "source": "init = keras.initializers.RandomUniform(minval=-0.1, maxval=0.1)",
   "outputs": [],
   "execution_count": 5
  },
  {
   "cell_type": "code",
   "metadata": {
    "colab": {
     "base_uri": "https://localhost:8080/"
    },
    "id": "QLi2RZuSuVG7",
    "outputId": "6180ebbd-cfe3-4ca5-82d7-12972c6d2a98",
    "cell_id": "00005-69f88dac-6186-4504-8d08-4a68e9d31143",
    "deepnote_output_heights": [
     21.1875
    ],
    "deepnote_to_be_reexecuted": false,
    "source_hash": "38f368cd",
    "execution_start": 1638042258242,
    "execution_millis": 2,
    "deepnote_cell_type": "code"
   },
   "source": "X_train.shape",
   "outputs": [
    {
     "output_type": "execute_result",
     "execution_count": 6,
     "data": {
      "text/plain": "(60000, 28, 28)"
     },
     "metadata": {}
    }
   ],
   "execution_count": 6
  },
  {
   "cell_type": "code",
   "metadata": {
    "colab": {
     "base_uri": "https://localhost:8080/"
    },
    "id": "pNFMOgT6uXiB",
    "outputId": "396142dd-1970-4c06-dba5-0850362cdb26",
    "cell_id": "00006-6705f5ee-44ec-41a8-a5bb-524d23b1d504",
    "deepnote_output_heights": [
     21.1875
    ],
    "deepnote_to_be_reexecuted": false,
    "source_hash": "9cd47083",
    "execution_start": 1638042258258,
    "deepnote_cell_type": "code"
   },
   "source": "y_train.shape",
   "outputs": [
    {
     "output_type": "execute_result",
     "execution_count": 7,
     "data": {
      "text/plain": "(60000, 10)"
     },
     "metadata": {}
    }
   ],
   "execution_count": 7
  },
  {
   "cell_type": "code",
   "metadata": {
    "colab": {
     "base_uri": "https://localhost:8080/"
    },
    "id": "QfmRx78HwQw7",
    "outputId": "0c4b2d45-8e28-4e15-ba13-7444d7b1ac11",
    "cell_id": "00007-884fed51-2043-4174-9fb6-7dcff174176b",
    "deepnote_output_heights": [
     21.1875
    ],
    "deepnote_to_be_reexecuted": false,
    "source_hash": "953a8cdc",
    "execution_start": 1638042258309,
    "deepnote_cell_type": "code"
   },
   "source": "y_test.shape",
   "outputs": [
    {
     "output_type": "execute_result",
     "execution_count": 8,
     "data": {
      "text/plain": "(10000, 10)"
     },
     "metadata": {}
    }
   ],
   "execution_count": 8
  },
  {
   "cell_type": "code",
   "metadata": {
    "id": "kg2SM27ymnvK",
    "cell_id": "00008-b1f000a6-b22f-4cd9-9bc0-96626a26c975",
    "deepnote_to_be_reexecuted": false,
    "source_hash": "fbda0804",
    "execution_start": 1638042258310,
    "execution_millis": 53,
    "deepnote_cell_type": "code"
   },
   "source": "from tensorflow.keras import layers\nEPOCHS = 20\nmodel = keras.Sequential([\n                          layers.Flatten(input_shape=(28,28)),\n                          layers.Dense(25, activation = 'tanh', kernel_initializer = init, bias_initializer = 'zeros'),\n                          layers.Dense(10, activation = 'sigmoid', kernel_initializer = init, bias_initializer = 'zeros')\n])\n\noptimizer = keras.optimizers.SGD(learning_rate=0.01)\nmodel.compile(loss=tf.keras.losses.mean_squared_error, metrics=['accuracy'], optimizer = optimizer)",
   "outputs": [],
   "execution_count": 9
  },
  {
   "cell_type": "code",
   "metadata": {
    "colab": {
     "base_uri": "https://localhost:8080/",
     "height": 878
    },
    "id": "3Q8_xh5prt-A",
    "outputId": "58a3962b-491d-42c5-b634-40e6553f92d2",
    "cell_id": "00009-76bc07d4-cf74-43e6-b35f-d583f646a2ce",
    "deepnote_to_be_reexecuted": false,
    "source_hash": "6e5ed80c",
    "execution_start": 1638042258420,
    "execution_millis": 955261,
    "deepnote_cell_type": "code"
   },
   "source": "history = model.fit(X_train, y_train, validation_data = (X_test, y_test), epochs = EPOCHS, batch_size=1, verbose = 2, shuffle= True)",
   "outputs": [
    {
     "name": "stdout",
     "text": "Epoch 1/20\n60000/60000 - 50s - loss: 0.0493 - accuracy: 0.7168 - val_loss: 0.0242 - val_accuracy: 0.9007\nEpoch 2/20\n60000/60000 - 50s - loss: 0.0200 - accuracy: 0.9038 - val_loss: 0.0165 - val_accuracy: 0.9185\nEpoch 3/20\n60000/60000 - 48s - loss: 0.0158 - accuracy: 0.9161 - val_loss: 0.0143 - val_accuracy: 0.9238\nEpoch 4/20\n60000/60000 - 48s - loss: 0.0141 - accuracy: 0.9230 - val_loss: 0.0132 - val_accuracy: 0.9256\nEpoch 5/20\n60000/60000 - 47s - loss: 0.0130 - accuracy: 0.9279 - val_loss: 0.0124 - val_accuracy: 0.9286\nEpoch 6/20\n60000/60000 - 46s - loss: 0.0123 - accuracy: 0.9312 - val_loss: 0.0119 - val_accuracy: 0.9317\nEpoch 7/20\n60000/60000 - 46s - loss: 0.0117 - accuracy: 0.9340 - val_loss: 0.0115 - val_accuracy: 0.9333\nEpoch 8/20\n60000/60000 - 47s - loss: 0.0113 - accuracy: 0.9365 - val_loss: 0.0112 - val_accuracy: 0.9343\nEpoch 9/20\n60000/60000 - 46s - loss: 0.0109 - accuracy: 0.9383 - val_loss: 0.0110 - val_accuracy: 0.9370\nEpoch 10/20\n60000/60000 - 47s - loss: 0.0105 - accuracy: 0.9401 - val_loss: 0.0108 - val_accuracy: 0.9369\nEpoch 11/20\n60000/60000 - 47s - loss: 0.0103 - accuracy: 0.9414 - val_loss: 0.0106 - val_accuracy: 0.9376\nEpoch 12/20\n60000/60000 - 47s - loss: 0.0100 - accuracy: 0.9423 - val_loss: 0.0106 - val_accuracy: 0.9373\nEpoch 13/20\n60000/60000 - 47s - loss: 0.0098 - accuracy: 0.9438 - val_loss: 0.0103 - val_accuracy: 0.9391\nEpoch 14/20\n60000/60000 - 47s - loss: 0.0096 - accuracy: 0.9456 - val_loss: 0.0102 - val_accuracy: 0.9397\nEpoch 15/20\n60000/60000 - 47s - loss: 0.0094 - accuracy: 0.9462 - val_loss: 0.0103 - val_accuracy: 0.9396\nEpoch 16/20\n60000/60000 - 47s - loss: 0.0092 - accuracy: 0.9469 - val_loss: 0.0099 - val_accuracy: 0.9418\nEpoch 17/20\n60000/60000 - 47s - loss: 0.0091 - accuracy: 0.9479 - val_loss: 0.0100 - val_accuracy: 0.9391\nEpoch 18/20\n60000/60000 - 46s - loss: 0.0089 - accuracy: 0.9486 - val_loss: 0.0099 - val_accuracy: 0.9425\nEpoch 19/20\n60000/60000 - 48s - loss: 0.0088 - accuracy: 0.9495 - val_loss: 0.0100 - val_accuracy: 0.9405\nEpoch 20/20\n60000/60000 - 58s - loss: 0.0087 - accuracy: 0.9507 - val_loss: 0.0097 - val_accuracy: 0.9438\n",
     "output_type": "stream"
    }
   ],
   "execution_count": 10
  },
  {
   "cell_type": "markdown",
   "source": "<a style='text-decoration:none;line-height:16px;display:flex;color:#5B5B62;padding:10px;justify-content:end;' href='https://deepnote.com?utm_source=created-in-deepnote-cell&projectId=4e0157cb-2c5d-4512-8206-4e8c870a13f2' target=\"_blank\">\n<img alt='Created in deepnote.com' style='display:inline;max-height:16px;margin:0px;margin-right:7.5px;' src='data:image/svg+xml;base64,PD94bWwgdmVyc2lvbj0iMS4wIiBlbmNvZGluZz0iVVRGLTgiPz4KPHN2ZyB3aWR0aD0iODBweCIgaGVpZ2h0PSI4MHB4IiB2aWV3Qm94PSIwIDAgODAgODAiIHZlcnNpb249IjEuMSIgeG1sbnM9Imh0dHA6Ly93d3cudzMub3JnLzIwMDAvc3ZnIiB4bWxuczp4bGluaz0iaHR0cDovL3d3dy53My5vcmcvMTk5OS94bGluayI+CiAgICA8IS0tIEdlbmVyYXRvcjogU2tldGNoIDU0LjEgKDc2NDkwKSAtIGh0dHBzOi8vc2tldGNoYXBwLmNvbSAtLT4KICAgIDx0aXRsZT5Hcm91cCAzPC90aXRsZT4KICAgIDxkZXNjPkNyZWF0ZWQgd2l0aCBTa2V0Y2guPC9kZXNjPgogICAgPGcgaWQ9IkxhbmRpbmciIHN0cm9rZT0ibm9uZSIgc3Ryb2tlLXdpZHRoPSIxIiBmaWxsPSJub25lIiBmaWxsLXJ1bGU9ImV2ZW5vZGQiPgogICAgICAgIDxnIGlkPSJBcnRib2FyZCIgdHJhbnNmb3JtPSJ0cmFuc2xhdGUoLTEyMzUuMDAwMDAwLCAtNzkuMDAwMDAwKSI+CiAgICAgICAgICAgIDxnIGlkPSJHcm91cC0zIiB0cmFuc2Zvcm09InRyYW5zbGF0ZSgxMjM1LjAwMDAwMCwgNzkuMDAwMDAwKSI+CiAgICAgICAgICAgICAgICA8cG9seWdvbiBpZD0iUGF0aC0yMCIgZmlsbD0iIzAyNjVCNCIgcG9pbnRzPSIyLjM3NjIzNzYyIDgwIDM4LjA0NzY2NjcgODAgNTcuODIxNzgyMiA3My44MDU3NTkyIDU3LjgyMTc4MjIgMzIuNzU5MjczOSAzOS4xNDAyMjc4IDMxLjY4MzE2ODMiPjwvcG9seWdvbj4KICAgICAgICAgICAgICAgIDxwYXRoIGQ9Ik0zNS4wMDc3MTgsODAgQzQyLjkwNjIwMDcsNzYuNDU0OTM1OCA0Ny41NjQ5MTY3LDcxLjU0MjI2NzEgNDguOTgzODY2LDY1LjI2MTk5MzkgQzUxLjExMjI4OTksNTUuODQxNTg0MiA0MS42NzcxNzk1LDQ5LjIxMjIyODQgMjUuNjIzOTg0Niw0OS4yMTIyMjg0IEMyNS40ODQ5Mjg5LDQ5LjEyNjg0NDggMjkuODI2MTI5Niw0My4yODM4MjQ4IDM4LjY0NzU4NjksMzEuNjgzMTY4MyBMNzIuODcxMjg3MSwzMi41NTQ0MjUgTDY1LjI4MDk3Myw2Ny42NzYzNDIxIEw1MS4xMTIyODk5LDc3LjM3NjE0NCBMMzUuMDA3NzE4LDgwIFoiIGlkPSJQYXRoLTIyIiBmaWxsPSIjMDAyODY4Ij48L3BhdGg+CiAgICAgICAgICAgICAgICA8cGF0aCBkPSJNMCwzNy43MzA0NDA1IEwyNy4xMTQ1MzcsMC4yNTcxMTE0MzYgQzYyLjM3MTUxMjMsLTEuOTkwNzE3MDEgODAsMTAuNTAwMzkyNyA4MCwzNy43MzA0NDA1IEM4MCw2NC45NjA0ODgyIDY0Ljc3NjUwMzgsNzkuMDUwMzQxNCAzNC4zMjk1MTEzLDgwIEM0Ny4wNTUzNDg5LDc3LjU2NzA4MDggNTMuNDE4MjY3Nyw3MC4zMTM2MTAzIDUzLjQxODI2NzcsNTguMjM5NTg4NSBDNTMuNDE4MjY3Nyw0MC4xMjg1NTU3IDM2LjMwMzk1NDQsMzcuNzMwNDQwNSAyNS4yMjc0MTcsMzcuNzMwNDQwNSBDMTcuODQzMDU4NiwzNy43MzA0NDA1IDkuNDMzOTE5NjYsMzcuNzMwNDQwNSAwLDM3LjczMDQ0MDUgWiIgaWQ9IlBhdGgtMTkiIGZpbGw9IiMzNzkzRUYiPjwvcGF0aD4KICAgICAgICAgICAgPC9nPgogICAgICAgIDwvZz4KICAgIDwvZz4KPC9zdmc+' > </img>\nCreated in <span style='font-weight:600;margin-left:4px;'>Deepnote</span></a>",
   "metadata": {
    "tags": [],
    "created_in_deepnote_cell": true,
    "deepnote_cell_type": "markdown"
   }
  }
 ],
 "nbformat": 4,
 "nbformat_minor": 0,
 "metadata": {
  "colab": {
   "name": "MNIST Classification using Tensorflow.ipynb",
   "provenance": [],
   "collapsed_sections": []
  },
  "kernelspec": {
   "display_name": "Python 3",
   "name": "python3"
  },
  "language_info": {
   "name": "python"
  },
  "deepnote_notebook_id": "fc216651-1a99-40d8-a78c-c0a99f95e56b",
  "deepnote": {},
  "deepnote_execution_queue": []
 }
}