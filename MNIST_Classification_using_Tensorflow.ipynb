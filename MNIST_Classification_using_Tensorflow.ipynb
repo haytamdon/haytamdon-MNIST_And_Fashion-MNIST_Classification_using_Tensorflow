{
  "nbformat": 4,
  "nbformat_minor": 0,
  "metadata": {
    "colab": {
      "name": "MNIST Classification using Tensorflow.ipynb",
      "provenance": [],
      "collapsed_sections": []
    },
    "kernelspec": {
      "display_name": "Python 3",
      "name": "python3"
    },
    "language_info": {
      "name": "python"
    }
  },
  "cells": [
    {
      "cell_type": "code",
      "metadata": {
        "id": "PDV5roxVbgUz"
      },
      "source": [
        "import tensorflow as tf\n",
        "from tensorflow import keras\n",
        "from tensorflow.keras.utils import to_categorical\n",
        "import numpy as np\n",
        "import matplotlib.pyplot as plt"
      ],
      "execution_count": null,
      "outputs": []
    },
    {
      "cell_type": "code",
      "metadata": {
        "id": "WhXryVa0l8w_"
      },
      "source": [
        "tf.random.set_seed(7)"
      ],
      "execution_count": null,
      "outputs": []
    },
    {
      "cell_type": "code",
      "metadata": {
        "id": "qsE-osxmmHrW"
      },
      "source": [
        "mnist = keras.datasets.mnist\n",
        "(X_train, y_train), (X_test, y_test) = mnist.load_data()"
      ],
      "execution_count": null,
      "outputs": []
    },
    {
      "cell_type": "code",
      "metadata": {
        "id": "j-us0f2gqRqh"
      },
      "source": [
        "from tensorflow.keras.utils import to_categorical\n",
        "mean = np.mean(X_train)\n",
        "stddev = np.std(X_train)\n",
        "X_train = (X_train - mean)/stddev\n",
        "X_test = (X_test - mean)/stddev\n",
        "y_train = to_categorical(y_train, num_classes=10)\n",
        "y_test = to_categorical(y_test, num_classes=10)"
      ],
      "execution_count": null,
      "outputs": []
    },
    {
      "cell_type": "code",
      "metadata": {
        "id": "o1vHYsM-oEAa"
      },
      "source": [
        "init = keras.initializers.RandomUniform(minval=-0.1, maxval=0.1)"
      ],
      "execution_count": null,
      "outputs": []
    },
    {
      "cell_type": "code",
      "metadata": {
        "colab": {
          "base_uri": "https://localhost:8080/"
        },
        "id": "QLi2RZuSuVG7",
        "outputId": "6180ebbd-cfe3-4ca5-82d7-12972c6d2a98"
      },
      "source": [
        "X_train.shape"
      ],
      "execution_count": null,
      "outputs": [
        {
          "output_type": "execute_result",
          "data": {
            "text/plain": [
              "(60000, 28, 28)"
            ]
          },
          "metadata": {},
          "execution_count": 16
        }
      ]
    },
    {
      "cell_type": "code",
      "metadata": {
        "colab": {
          "base_uri": "https://localhost:8080/"
        },
        "id": "pNFMOgT6uXiB",
        "outputId": "396142dd-1970-4c06-dba5-0850362cdb26"
      },
      "source": [
        "y_train.shape"
      ],
      "execution_count": null,
      "outputs": [
        {
          "output_type": "execute_result",
          "data": {
            "text/plain": [
              "(60000, 10)"
            ]
          },
          "metadata": {},
          "execution_count": 17
        }
      ]
    },
    {
      "cell_type": "code",
      "metadata": {
        "colab": {
          "base_uri": "https://localhost:8080/"
        },
        "id": "QfmRx78HwQw7",
        "outputId": "0c4b2d45-8e28-4e15-ba13-7444d7b1ac11"
      },
      "source": [
        "y_test.shape"
      ],
      "execution_count": null,
      "outputs": [
        {
          "output_type": "execute_result",
          "data": {
            "text/plain": [
              "(10000, 10)"
            ]
          },
          "metadata": {},
          "execution_count": 18
        }
      ]
    },
    {
      "cell_type": "code",
      "metadata": {
        "id": "kg2SM27ymnvK"
      },
      "source": [
        "from tensorflow.keras import layers\n",
        "EPOCHS = 20\n",
        "model = keras.Sequential([\n",
        "                          layers.Flatten(input_shape=(28,28)),\n",
        "                          layers.Dense(25, activation = 'tanh', kernel_initializer = init, bias_initializer = 'zeros'),\n",
        "                          layers.Dense(10, activation = 'sigmoid', kernel_initializer = init, bias_initializer = 'zeros')\n",
        "])\n",
        "\n",
        "optimizer = keras.optimizers.SGD(learning_rate=0.01)\n",
        "model.compile(loss=tf.keras.losses.mean_squared_error, metrics=['accuracy'], optimizer = optimizer)"
      ],
      "execution_count": null,
      "outputs": []
    },
    {
      "cell_type": "code",
      "metadata": {
        "colab": {
          "base_uri": "https://localhost:8080/",
          "height": 878
        },
        "id": "3Q8_xh5prt-A",
        "outputId": "58a3962b-491d-42c5-b634-40e6553f92d2"
      },
      "source": [
        "history = model.fit(X_train, y_train, validation_data = (X_test, y_test), epochs = EPOCHS, batch_size=1, verbose = 2, shuffle= True)"
      ],
      "execution_count": null,
      "outputs": [
        {
          "output_type": "stream",
          "name": "stdout",
          "text": [
            "Epoch 1/20\n",
            "60000/60000 - 46s - loss: 0.0493 - accuracy: 0.7168 - val_loss: 0.0242 - val_accuracy: 0.9007 - 46s/epoch - 772us/step\n",
            "Epoch 2/20\n",
            "60000/60000 - 46s - loss: 0.0200 - accuracy: 0.9038 - val_loss: 0.0165 - val_accuracy: 0.9185 - 46s/epoch - 767us/step\n",
            "Epoch 3/20\n",
            "60000/60000 - 50s - loss: 0.0158 - accuracy: 0.9161 - val_loss: 0.0143 - val_accuracy: 0.9238 - 50s/epoch - 833us/step\n",
            "Epoch 4/20\n",
            "60000/60000 - 50s - loss: 0.0141 - accuracy: 0.9230 - val_loss: 0.0132 - val_accuracy: 0.9256 - 50s/epoch - 837us/step\n",
            "Epoch 5/20\n",
            "60000/60000 - 46s - loss: 0.0130 - accuracy: 0.9279 - val_loss: 0.0124 - val_accuracy: 0.9286 - 46s/epoch - 773us/step\n",
            "Epoch 6/20\n",
            "60000/60000 - 46s - loss: 0.0123 - accuracy: 0.9312 - val_loss: 0.0119 - val_accuracy: 0.9317 - 46s/epoch - 771us/step\n",
            "Epoch 7/20\n",
            "60000/60000 - 50s - loss: 0.0117 - accuracy: 0.9340 - val_loss: 0.0115 - val_accuracy: 0.9333 - 50s/epoch - 835us/step\n",
            "Epoch 8/20\n",
            "60000/60000 - 50s - loss: 0.0113 - accuracy: 0.9365 - val_loss: 0.0112 - val_accuracy: 0.9343 - 50s/epoch - 835us/step\n",
            "Epoch 9/20\n",
            "60000/60000 - 50s - loss: 0.0109 - accuracy: 0.9383 - val_loss: 0.0110 - val_accuracy: 0.9370 - 50s/epoch - 839us/step\n",
            "Epoch 10/20\n",
            "60000/60000 - 50s - loss: 0.0105 - accuracy: 0.9401 - val_loss: 0.0108 - val_accuracy: 0.9369 - 50s/epoch - 836us/step\n",
            "Epoch 11/20\n",
            "60000/60000 - 46s - loss: 0.0103 - accuracy: 0.9414 - val_loss: 0.0106 - val_accuracy: 0.9376 - 46s/epoch - 770us/step\n",
            "Epoch 12/20\n",
            "60000/60000 - 46s - loss: 0.0100 - accuracy: 0.9423 - val_loss: 0.0106 - val_accuracy: 0.9373 - 46s/epoch - 769us/step\n",
            "Epoch 13/20\n",
            "60000/60000 - 50s - loss: 0.0098 - accuracy: 0.9438 - val_loss: 0.0103 - val_accuracy: 0.9391 - 50s/epoch - 837us/step\n",
            "Epoch 14/20\n",
            "60000/60000 - 46s - loss: 0.0096 - accuracy: 0.9456 - val_loss: 0.0102 - val_accuracy: 0.9397 - 46s/epoch - 771us/step\n",
            "Epoch 15/20\n",
            "60000/60000 - 46s - loss: 0.0094 - accuracy: 0.9462 - val_loss: 0.0103 - val_accuracy: 0.9396 - 46s/epoch - 770us/step\n",
            "Epoch 16/20\n",
            "60000/60000 - 50s - loss: 0.0092 - accuracy: 0.9469 - val_loss: 0.0099 - val_accuracy: 0.9418 - 50s/epoch - 834us/step\n",
            "Epoch 17/20\n",
            "60000/60000 - 50s - loss: 0.0091 - accuracy: 0.9479 - val_loss: 0.0100 - val_accuracy: 0.9391 - 50s/epoch - 836us/step\n",
            "Epoch 18/20\n",
            "60000/60000 - 50s - loss: 0.0089 - accuracy: 0.9486 - val_loss: 0.0099 - val_accuracy: 0.9425 - 50s/epoch - 834us/step\n",
            "Epoch 19/20\n",
            "60000/60000 - 50s - loss: 0.0088 - accuracy: 0.9495 - val_loss: 0.0100 - val_accuracy: 0.9405 - 50s/epoch - 832us/step\n",
            "Epoch 20/20\n",
            "60000/60000 - 46s - loss: 0.0087 - accuracy: 0.9507 - val_loss: 0.0097 - val_accuracy: 0.9438 - 46s/epoch - 766us/step\n"
          ]
        },
        {
          "output_type": "error",
          "ename": "AttributeError",
          "evalue": "ignored",
          "traceback": [
            "\u001b[0;31m---------------------------------------------------------------------------\u001b[0m",
            "\u001b[0;31mAttributeError\u001b[0m                            Traceback (most recent call last)",
            "\u001b[0;32m<ipython-input-20-4283e5eaa798>\u001b[0m in \u001b[0;36m<module>\u001b[0;34m()\u001b[0m\n\u001b[1;32m      1\u001b[0m \u001b[0mhistory\u001b[0m \u001b[0;34m=\u001b[0m \u001b[0mmodel\u001b[0m\u001b[0;34m.\u001b[0m\u001b[0mfit\u001b[0m\u001b[0;34m(\u001b[0m\u001b[0mX_train\u001b[0m\u001b[0;34m,\u001b[0m \u001b[0my_train\u001b[0m\u001b[0;34m,\u001b[0m \u001b[0mvalidation_data\u001b[0m \u001b[0;34m=\u001b[0m \u001b[0;34m(\u001b[0m\u001b[0mX_test\u001b[0m\u001b[0;34m,\u001b[0m \u001b[0my_test\u001b[0m\u001b[0;34m)\u001b[0m\u001b[0;34m,\u001b[0m \u001b[0mepochs\u001b[0m \u001b[0;34m=\u001b[0m \u001b[0mEPOCHS\u001b[0m\u001b[0;34m,\u001b[0m \u001b[0mbatch_size\u001b[0m\u001b[0;34m=\u001b[0m\u001b[0;36m1\u001b[0m\u001b[0;34m,\u001b[0m \u001b[0mverbose\u001b[0m \u001b[0;34m=\u001b[0m \u001b[0;36m2\u001b[0m\u001b[0;34m,\u001b[0m \u001b[0mshuffle\u001b[0m\u001b[0;34m=\u001b[0m \u001b[0;32mTrue\u001b[0m\u001b[0;34m)\u001b[0m\u001b[0;34m\u001b[0m\u001b[0;34m\u001b[0m\u001b[0m\n\u001b[0;32m----> 2\u001b[0;31m \u001b[0mhistory\u001b[0m\u001b[0;34m.\u001b[0m\u001b[0mplot\u001b[0m\u001b[0;34m(\u001b[0m\u001b[0;34m)\u001b[0m\u001b[0;34m\u001b[0m\u001b[0;34m\u001b[0m\u001b[0m\n\u001b[0m",
            "\u001b[0;31mAttributeError\u001b[0m: 'History' object has no attribute 'plot'"
          ]
        }
      ]
    },
    {
      "cell_type": "code",
      "metadata": {
        "colab": {
          "base_uri": "https://localhost:8080/"
        },
        "id": "q4L17adRgeA7",
        "outputId": "91dc646a-906f-4b22-85f7-c6b65ee27cc6"
      },
      "source": [
        "history"
      ],
      "execution_count": null,
      "outputs": [
        {
          "output_type": "execute_result",
          "data": {
            "text/plain": [
              "<keras.callbacks.History at 0x7f002924ae10>"
            ]
          },
          "metadata": {},
          "execution_count": 21
        }
      ]
    }
  ]
}