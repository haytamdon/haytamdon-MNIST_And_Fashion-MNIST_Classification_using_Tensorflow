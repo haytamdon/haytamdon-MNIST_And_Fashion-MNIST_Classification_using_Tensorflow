{
 "cells": [
  {
   "cell_type": "code",
   "metadata": {
    "tags": [],
    "cell_id": "00000-090a81f5-8307-4215-8711-d172a435dff1",
    "deepnote_to_be_reexecuted": false,
    "source_hash": "ff5b4da7",
    "execution_start": 1638224775801,
    "execution_millis": 2545,
    "deepnote_app_coordinates": {
     "x": 0,
     "y": null,
     "w": 12,
     "h": 5
    },
    "deepnote_cell_type": "code"
   },
   "source": "import tensorflow as tf\nimport numpy as np\nimport matplotlib.pyplot as plt\nfrom tensorflow import keras\nfrom tensorflow.keras import layers",
   "execution_count": 1,
   "outputs": []
  },
  {
   "cell_type": "code",
   "metadata": {
    "tags": [],
    "cell_id": "00001-c55b70f6-cf14-44bc-aedf-1fa6094f7e33",
    "deepnote_to_be_reexecuted": false,
    "source_hash": "d9de341e",
    "execution_start": 1638224778350,
    "execution_millis": 856,
    "deepnote_app_coordinates": {
     "x": 0,
     "y": 6,
     "w": 12,
     "h": 5
    },
    "deepnote_cell_type": "code"
   },
   "source": "fashion_mnist = tf.keras.datasets.fashion_mnist\n\n(train_images, train_labels), (test_images, test_labels) = fashion_mnist.load_data()",
   "execution_count": 2,
   "outputs": [
    {
     "name": "stdout",
     "text": "Downloading data from https://storage.googleapis.com/tensorflow/tf-keras-datasets/train-labels-idx1-ubyte.gz\n32768/29515 [=================================] - 0s 0us/step\nDownloading data from https://storage.googleapis.com/tensorflow/tf-keras-datasets/train-images-idx3-ubyte.gz\n26427392/26421880 [==============================] - 0s 0us/step\nDownloading data from https://storage.googleapis.com/tensorflow/tf-keras-datasets/t10k-labels-idx1-ubyte.gz\n8192/5148 [===============================================] - 0s 0us/step\nDownloading data from https://storage.googleapis.com/tensorflow/tf-keras-datasets/t10k-images-idx3-ubyte.gz\n4423680/4422102 [==============================] - 0s 0us/step\n",
     "output_type": "stream"
    }
   ]
  },
  {
   "cell_type": "code",
   "metadata": {
    "tags": [],
    "cell_id": "00003-f82621f0-d1f8-4147-9aff-1b24b2720900",
    "deepnote_to_be_reexecuted": false,
    "source_hash": "60ee5eed",
    "execution_start": 1638224779209,
    "execution_millis": 2,
    "deepnote_output_heights": [
     21.1875
    ],
    "deepnote_app_coordinates": {
     "x": 0,
     "y": 12,
     "w": 12,
     "h": 5
    },
    "deepnote_cell_type": "code"
   },
   "source": "class_names = ['T-shirt/top', 'Trouser', 'Pullover', 'Dress', 'Coat',\n               'Sandal', 'Shirt', 'Sneaker', 'Bag', 'Ankle boot']",
   "execution_count": 3,
   "outputs": []
  },
  {
   "cell_type": "code",
   "metadata": {
    "tags": [],
    "cell_id": "00003-2a5b1825-6318-41e3-ad04-ef611f463e82",
    "deepnote_to_be_reexecuted": false,
    "source_hash": "a8060df0",
    "execution_start": 1638224779213,
    "execution_millis": 151,
    "deepnote_app_coordinates": {
     "x": 0,
     "y": 36,
     "w": 12,
     "h": 5
    },
    "deepnote_cell_type": "code"
   },
   "source": "X_train = train_images/255\nX_test = test_images/255\ny_train = train_labels\ny_test = test_labels",
   "execution_count": 4,
   "outputs": []
  },
  {
   "cell_type": "code",
   "metadata": {
    "tags": [],
    "cell_id": "00004-42181d2e-beaf-447b-a8ec-5abe33ad9618",
    "deepnote_to_be_reexecuted": false,
    "source_hash": "7865dbc6",
    "execution_start": 1638224779366,
    "execution_millis": 1033,
    "deepnote_app_coordinates": {
     "x": 0,
     "y": 18,
     "w": 12,
     "h": 5
    },
    "deepnote_cell_type": "code"
   },
   "source": "model = tf.keras.Sequential([\n    layers.Flatten(input_shape=(28,28)),\n    layers.Dense(128, activation='relu'),\n    layers.Dense(10)\n])",
   "execution_count": 5,
   "outputs": []
  },
  {
   "cell_type": "code",
   "metadata": {
    "tags": [],
    "cell_id": "00005-dbf865d3-527f-4fdb-a992-9b1591c2bf9a",
    "deepnote_to_be_reexecuted": false,
    "source_hash": "277f3e31",
    "execution_start": 1638224780405,
    "execution_millis": 9,
    "deepnote_app_coordinates": {
     "x": 0,
     "y": 24,
     "w": 12,
     "h": 5
    },
    "deepnote_cell_type": "code"
   },
   "source": "opt = tf.optimizers.Adam()\nmodel.compile(optimizer=opt,\n              loss=tf.keras.losses.SparseCategoricalCrossentropy(from_logits=True),\n              metrics= ['accuracy'])",
   "execution_count": 6,
   "outputs": []
  },
  {
   "cell_type": "code",
   "metadata": {
    "tags": [],
    "cell_id": "00006-05368d73-7317-4567-ae10-90677ee06d0d",
    "deepnote_to_be_reexecuted": false,
    "source_hash": "13121cb9",
    "execution_start": 1638224780415,
    "execution_millis": 22579,
    "deepnote_output_heights": [
     null,
     21.1875
    ],
    "deepnote_app_coordinates": {
     "x": 0,
     "y": 30,
     "w": 12,
     "h": 5
    },
    "deepnote_cell_type": "code"
   },
   "source": "model.fit(X_train, y_train, epochs=10)",
   "execution_count": 7,
   "outputs": [
    {
     "name": "stdout",
     "text": "Epoch 1/10\n1875/1875 [==============================] - 3s 1ms/step - loss: 0.6252 - accuracy: 0.7819\nEpoch 2/10\n1875/1875 [==============================] - 2s 1ms/step - loss: 0.3743 - accuracy: 0.8637\nEpoch 3/10\n1875/1875 [==============================] - 2s 1ms/step - loss: 0.3402 - accuracy: 0.8766\nEpoch 4/10\n1875/1875 [==============================] - 2s 1ms/step - loss: 0.3161 - accuracy: 0.8842\nEpoch 5/10\n1875/1875 [==============================] - 2s 1ms/step - loss: 0.2937 - accuracy: 0.8912\nEpoch 6/10\n1875/1875 [==============================] - 2s 1ms/step - loss: 0.2797 - accuracy: 0.8961\nEpoch 7/10\n1875/1875 [==============================] - 2s 1ms/step - loss: 0.2661 - accuracy: 0.9022\nEpoch 8/10\n1875/1875 [==============================] - 2s 1ms/step - loss: 0.2568 - accuracy: 0.9058\nEpoch 9/10\n1875/1875 [==============================] - 2s 1ms/step - loss: 0.2493 - accuracy: 0.9062\nEpoch 10/10\n1875/1875 [==============================] - 2s 1ms/step - loss: 0.2381 - accuracy: 0.9116\n",
     "output_type": "stream"
    },
    {
     "output_type": "execute_result",
     "execution_count": 7,
     "data": {
      "text/plain": "<tensorflow.python.keras.callbacks.History at 0x7f3f0a1d6750>"
     },
     "metadata": {}
    }
   ]
  },
  {
   "cell_type": "code",
   "metadata": {
    "tags": [],
    "cell_id": "00007-9f175124-d339-404f-adba-785367e690fc",
    "deepnote_to_be_reexecuted": false,
    "source_hash": "e8da9747",
    "execution_start": 1638224802990,
    "execution_millis": 318,
    "deepnote_output_heights": [
     null,
     21.1875
    ],
    "deepnote_app_coordinates": {
     "x": 0,
     "y": 42,
     "w": 12,
     "h": 5
    },
    "deepnote_cell_type": "code"
   },
   "source": "model.evaluate(X_test,  y_test, verbose=2)",
   "execution_count": 8,
   "outputs": [
    {
     "name": "stdout",
     "text": "313/313 - 0s - loss: 0.3652 - accuracy: 0.8765\n",
     "output_type": "stream"
    },
    {
     "output_type": "execute_result",
     "execution_count": 8,
     "data": {
      "text/plain": "[0.365158349275589, 0.8765000104904175]"
     },
     "metadata": {}
    }
   ]
  },
  {
   "cell_type": "markdown",
   "source": "<a style='text-decoration:none;line-height:16px;display:flex;color:#5B5B62;padding:10px;justify-content:end;' href='https://deepnote.com?utm_source=created-in-deepnote-cell&projectId=4e944ca3-7bf3-4725-a8e6-a6c98e345137' target=\"_blank\">\n<img alt='Created in deepnote.com' style='display:inline;max-height:16px;margin:0px;margin-right:7.5px;' src='data:image/svg+xml;base64,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' > </img>\nCreated in <span style='font-weight:600;margin-left:4px;'>Deepnote</span></a>",
   "metadata": {
    "tags": [],
    "created_in_deepnote_cell": true,
    "deepnote_cell_type": "markdown"
   }
  }
 ],
 "nbformat": 4,
 "nbformat_minor": 2,
 "metadata": {
  "orig_nbformat": 2,
  "deepnote": {
   "is_reactive": false
  },
  "deepnote_notebook_id": "fe113c68-1978-4deb-93bf-6137aae8a93f",
  "deepnote_execution_queue": [],
  "deepnote_app_layout": "article"
 }
}